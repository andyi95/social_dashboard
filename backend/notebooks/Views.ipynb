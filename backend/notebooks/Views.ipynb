{
 "cells": [
  {
   "cell_type": "code",
   "execution_count": 1,
   "metadata": {
    "pycharm": {
     "name": "#%%\n"
    }
   },
   "outputs": [
    {
     "ename": "ModuleNotFoundError",
     "evalue": "No module named 'app'",
     "output_type": "error",
     "traceback": [
      "\u001b[1;31m---------------------------------------------------------------------------\u001b[0m",
      "\u001b[1;31mModuleNotFoundError\u001b[0m                       Traceback (most recent call last)",
      "Input \u001b[1;32mIn [1]\u001b[0m, in \u001b[0;36m<cell line: 1>\u001b[1;34m()\u001b[0m\n\u001b[1;32m----> 1\u001b[0m \u001b[38;5;28;01mfrom\u001b[39;00m \u001b[38;5;21;01mapp\u001b[39;00m\u001b[38;5;21;01m.\u001b[39;00m\u001b[38;5;21;01mdb\u001b[39;00m\u001b[38;5;21;01m.\u001b[39;00m\u001b[38;5;21;01msession\u001b[39;00m \u001b[38;5;28;01mimport\u001b[39;00m Session\n\u001b[0;32m      2\u001b[0m \u001b[38;5;28;01mfrom\u001b[39;00m \u001b[38;5;21;01msqlalchemy\u001b[39;00m \u001b[38;5;28;01mimport\u001b[39;00m desc, select, func\n\u001b[0;32m      3\u001b[0m \u001b[38;5;28;01mfrom\u001b[39;00m \u001b[38;5;21;01msqlalchemy\u001b[39;00m\u001b[38;5;21;01m.\u001b[39;00m\u001b[38;5;21;01mexc\u001b[39;00m \u001b[38;5;28;01mimport\u001b[39;00m IntegrityError, NoResultFound\n",
      "\u001b[1;31mModuleNotFoundError\u001b[0m: No module named 'app'"
     ]
    }
   ],
   "source": [
    "\n",
    "from app.db.session import Session\n",
    "from sqlalchemy import desc, select, func\n",
    "from sqlalchemy.exc import IntegrityError, NoResultFound\n",
    "from app.db.base import Post, Group, PostWord\n",
    "session = Session()\n",
    "\n",
    "from app.schemas import WordStats\n",
    "\n",
    "from typing import List\n",
    "from datetime import date, datetime\n"
   ]
  },
  {
   "cell_type": "code",
   "execution_count": null,
   "metadata": {},
   "outputs": [],
   "source": [
    "dt = datetime()\n",
    "qs = session.query(PostWord.word='IT')\n",
    "dt = [row.__dict__ for row in qs.all()]"
   ]
  },
  {
   "cell_type": "code",
   "execution_count": null,
   "metadata": {},
   "outputs": [],
   "source": [
    "qs = session.query(\n",
    "        PostWord.word, func.max(PostWord.post_id).label('post_id'), func.sum(PostWord.count).label('count'),\n",
    "        func.max(PostWord.date).label('date')\n",
    "    ).group_by(PostWord.word).order_by(desc(func.sum(PostWord.count)))\n",
    "    qs = qs.join(PostWord.post)\n",
    "    \n",
    "@router.get('/words', response_model=List[WordStats])\n",
    "def get_words(date__gt: date = None, date__lt: date = None, limit: int = None):\n",
    "    qs = session.query(\n",
    "        PostWord.word, func.max(PostWord.post_id).label('post_id'), func.sum(PostWord.count).label('count'),\n",
    "        func.max(PostWord.date).label('date')\n",
    "    ).group_by(PostWord.word).order_by(desc(func.sum(PostWord.count)))\n",
    "    qs = qs.join(PostWord.post)\n",
    "    if date__gt:\n",
    "        qs = qs.filter(\n",
    "            Post.date.__gt__(datetime(date__gt.year, date__gt.month, date__gt.day))\n",
    "        )\n",
    "    if date__lt:\n",
    "        qs = qs.filter(\n",
    "            Post.date.__lt__(datetime(date__lt.year, date__lt.month, date.day))\n",
    "        )\n",
    "    if limit:\n",
    "        qs = qs[:limit]\n",
    "    return qs\n"
   ]
  }
 ],
 "metadata": {
  "kernelspec": {
   "display_name": "Python 3 (ipykernel)",
   "language": "python",
   "name": "python3"
  },
  "language_info": {
   "codemirror_mode": {
    "name": "ipython",
    "version": 3
   },
   "file_extension": ".py",
   "mimetype": "text/x-python",
   "name": "python",
   "nbconvert_exporter": "python",
   "pygments_lexer": "ipython3",
   "version": "3.10.1"
  }
 },
 "nbformat": 4,
 "nbformat_minor": 1
}
