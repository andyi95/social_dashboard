{
 "cells": [
  {
   "cell_type": "code",
   "execution_count": 1,
   "id": "58ecc122",
   "metadata": {
    "pycharm": {
     "name": "#%%\n"
    }
   },
   "outputs": [],
   "source": [
    "from api.models import *"
   ]
  },
  {
   "cell_type": "code",
   "execution_count": 2,
   "id": "46b77328",
   "metadata": {
    "pycharm": {
     "name": "#%%\n"
    }
   },
   "outputs": [],
   "source": [
    "from django.db.models import Subquery, OuterRef, F, Q\n",
    "    "
   ]
  },
  {
   "cell_type": "code",
   "execution_count": 3,
   "id": "cb53821c",
   "metadata": {
    "pycharm": {
     "name": "#%%\n"
    }
   },
   "outputs": [
    {
     "data": {
      "text/plain": [
       "0"
      ]
     },
     "execution_count": 3,
     "metadata": {},
     "output_type": "execute_result"
    }
   ],
   "source": [
    "PostsWords.objects.filter(date__isnull=True).update(date=Subquery(PostsWords.objects.filter(pk=OuterRef('pk')).values('post__date__date')[:1]))"
   ]
  },
  {
   "cell_type": "code",
   "execution_count": 2,
   "id": "a1019e9e",
   "metadata": {
    "pycharm": {
     "name": "#%%\n"
    }
   },
   "outputs": [],
   "source": [
    "import pandas as pd\n",
    "df = pd.DataFrame(list(PostsWords.objects.filter(word__iexact='украина').values()))\n",
    "df['date'] = pd.to_datetime(df.date, format='%Y-%m-%d')"
   ]
  },
  {
   "cell_type": "code",
   "execution_count": 3,
   "id": "cfe5a4cf",
   "metadata": {
    "pycharm": {
     "name": "#%%\n"
    }
   },
   "outputs": [
    {
     "data": {
      "text/plain": [
       "id                  int64\n",
       "word               object\n",
       "post_id             int64\n",
       "date       datetime64[ns]\n",
       "count               int64\n",
       "dtype: object"
      ]
     },
     "execution_count": 3,
     "metadata": {},
     "output_type": "execute_result"
    }
   ],
   "source": [
    "df.dtypes"
   ]
  },
  {
   "cell_type": "code",
   "execution_count": 4,
   "id": "cd49cb17",
   "metadata": {
    "pycharm": {
     "name": "#%%\n"
    }
   },
   "outputs": [
    {
     "data": {
      "text/plain": [
       "<bound method NDFrame.head of             id     word  post_id       date  count\n",
       "0         4987  украина     2884 2022-02-13      1\n",
       "1      1598117  украина    95307 2020-03-27      1\n",
       "2      3477707  украина   300968 2021-02-16      1\n",
       "3      2465486  украина   165527 2021-09-22      1\n",
       "4      2928176  украина   202031 2022-05-15      1\n",
       "...        ...      ...      ...        ...    ...\n",
       "18877     1181  украина   150195 2018-04-05      1\n",
       "18878      252  украина   150285 2018-04-04      1\n",
       "18879      548  украина   150257 2018-04-05      1\n",
       "18880      998  украина   150209 2018-04-05      1\n",
       "18881     1415  украина   150175 2018-04-05      1\n",
       "\n",
       "[18882 rows x 5 columns]>"
      ]
     },
     "execution_count": 4,
     "metadata": {},
     "output_type": "execute_result"
    }
   ],
   "source": [
    "df.head"
   ]
  },
  {
   "cell_type": "code",
   "execution_count": 5,
   "id": "d182b208",
   "metadata": {
    "pycharm": {
     "name": "#%%\n"
    }
   },
   "outputs": [],
   "source": [
    "grouped = df.groupby(['date'])"
   ]
  },
  {
   "cell_type": "code",
   "execution_count": 6,
   "id": "8aa7b405",
   "metadata": {
    "pycharm": {
     "name": "#%%\n"
    }
   },
   "outputs": [
    {
     "data": {
      "text/plain": [
       "<bound method GroupBy.head of <pandas.core.groupby.generic.DataFrameGroupBy object at 0x000001CE94B11B20>>"
      ]
     },
     "execution_count": 6,
     "metadata": {},
     "output_type": "execute_result"
    }
   ],
   "source": [
    "grouped.head"
   ]
  },
  {
   "cell_type": "code",
   "execution_count": 7,
   "id": "7195806c",
   "metadata": {
    "pycharm": {
     "name": "#%%\n"
    }
   },
   "outputs": [
    {
     "data": {
      "text/html": [
       "<div>\n",
       "<style scoped>\n",
       "    .dataframe tbody tr th:only-of-type {\n",
       "        vertical-align: middle;\n",
       "    }\n",
       "\n",
       "    .dataframe tbody tr th {\n",
       "        vertical-align: top;\n",
       "    }\n",
       "\n",
       "    .dataframe thead th {\n",
       "        text-align: right;\n",
       "    }\n",
       "</style>\n",
       "<table border=\"1\" class=\"dataframe\">\n",
       "  <thead>\n",
       "    <tr style=\"text-align: right;\">\n",
       "      <th></th>\n",
       "      <th>id</th>\n",
       "      <th>post_id</th>\n",
       "      <th>count</th>\n",
       "    </tr>\n",
       "    <tr>\n",
       "      <th>date</th>\n",
       "      <th></th>\n",
       "      <th></th>\n",
       "      <th></th>\n",
       "    </tr>\n",
       "  </thead>\n",
       "  <tbody>\n",
       "    <tr>\n",
       "      <th>2017-01-02</th>\n",
       "      <td>4.423736e+06</td>\n",
       "      <td>400406.000000</td>\n",
       "      <td>1.0</td>\n",
       "    </tr>\n",
       "    <tr>\n",
       "      <th>2017-01-03</th>\n",
       "      <td>4.900155e+06</td>\n",
       "      <td>400350.500000</td>\n",
       "      <td>1.0</td>\n",
       "    </tr>\n",
       "    <tr>\n",
       "      <th>2017-01-05</th>\n",
       "      <td>3.944588e+06</td>\n",
       "      <td>400127.500000</td>\n",
       "      <td>1.0</td>\n",
       "    </tr>\n",
       "    <tr>\n",
       "      <th>2017-01-10</th>\n",
       "      <td>4.314645e+06</td>\n",
       "      <td>399442.000000</td>\n",
       "      <td>1.0</td>\n",
       "    </tr>\n",
       "    <tr>\n",
       "      <th>2017-01-11</th>\n",
       "      <td>5.124019e+06</td>\n",
       "      <td>399351.000000</td>\n",
       "      <td>1.0</td>\n",
       "    </tr>\n",
       "    <tr>\n",
       "      <th>2017-01-12</th>\n",
       "      <td>3.974041e+06</td>\n",
       "      <td>399252.666667</td>\n",
       "      <td>1.0</td>\n",
       "    </tr>\n",
       "    <tr>\n",
       "      <th>2017-01-15</th>\n",
       "      <td>4.347963e+06</td>\n",
       "      <td>398907.000000</td>\n",
       "      <td>1.0</td>\n",
       "    </tr>\n",
       "    <tr>\n",
       "      <th>2017-01-16</th>\n",
       "      <td>3.550936e+06</td>\n",
       "      <td>398724.500000</td>\n",
       "      <td>1.0</td>\n",
       "    </tr>\n",
       "    <tr>\n",
       "      <th>2017-01-17</th>\n",
       "      <td>3.868723e+06</td>\n",
       "      <td>398578.000000</td>\n",
       "      <td>1.0</td>\n",
       "    </tr>\n",
       "    <tr>\n",
       "      <th>2017-01-18</th>\n",
       "      <td>3.400767e+06</td>\n",
       "      <td>398538.000000</td>\n",
       "      <td>1.0</td>\n",
       "    </tr>\n",
       "  </tbody>\n",
       "</table>\n",
       "</div>"
      ],
      "text/plain": [
       "                      id        post_id  count\n",
       "date                                          \n",
       "2017-01-02  4.423736e+06  400406.000000    1.0\n",
       "2017-01-03  4.900155e+06  400350.500000    1.0\n",
       "2017-01-05  3.944588e+06  400127.500000    1.0\n",
       "2017-01-10  4.314645e+06  399442.000000    1.0\n",
       "2017-01-11  5.124019e+06  399351.000000    1.0\n",
       "2017-01-12  3.974041e+06  399252.666667    1.0\n",
       "2017-01-15  4.347963e+06  398907.000000    1.0\n",
       "2017-01-16  3.550936e+06  398724.500000    1.0\n",
       "2017-01-17  3.868723e+06  398578.000000    1.0\n",
       "2017-01-18  3.400767e+06  398538.000000    1.0"
      ]
     },
     "execution_count": 7,
     "metadata": {},
     "output_type": "execute_result"
    }
   ],
   "source": [
    "grouped.mean().head(10)"
   ]
  },
  {
   "cell_type": "code",
   "execution_count": 8,
   "id": "a81a435b",
   "metadata": {
    "pycharm": {
     "name": "#%%\n"
    }
   },
   "outputs": [
    {
     "data": {
      "text/html": [
       "<div>\n",
       "<style scoped>\n",
       "    .dataframe tbody tr th:only-of-type {\n",
       "        vertical-align: middle;\n",
       "    }\n",
       "\n",
       "    .dataframe tbody tr th {\n",
       "        vertical-align: top;\n",
       "    }\n",
       "\n",
       "    .dataframe thead th {\n",
       "        text-align: right;\n",
       "    }\n",
       "</style>\n",
       "<table border=\"1\" class=\"dataframe\">\n",
       "  <thead>\n",
       "    <tr style=\"text-align: right;\">\n",
       "      <th></th>\n",
       "      <th>id</th>\n",
       "      <th>word</th>\n",
       "      <th>post_id</th>\n",
       "      <th>date</th>\n",
       "      <th>count</th>\n",
       "    </tr>\n",
       "  </thead>\n",
       "  <tbody>\n",
       "    <tr>\n",
       "      <th>0</th>\n",
       "      <td>4987</td>\n",
       "      <td>украина</td>\n",
       "      <td>2884</td>\n",
       "      <td>2022-02-13</td>\n",
       "      <td>1</td>\n",
       "    </tr>\n",
       "    <tr>\n",
       "      <th>1</th>\n",
       "      <td>1598117</td>\n",
       "      <td>украина</td>\n",
       "      <td>95307</td>\n",
       "      <td>2020-03-27</td>\n",
       "      <td>1</td>\n",
       "    </tr>\n",
       "    <tr>\n",
       "      <th>2</th>\n",
       "      <td>3477707</td>\n",
       "      <td>украина</td>\n",
       "      <td>300968</td>\n",
       "      <td>2021-02-16</td>\n",
       "      <td>1</td>\n",
       "    </tr>\n",
       "    <tr>\n",
       "      <th>3</th>\n",
       "      <td>2465486</td>\n",
       "      <td>украина</td>\n",
       "      <td>165527</td>\n",
       "      <td>2021-09-22</td>\n",
       "      <td>1</td>\n",
       "    </tr>\n",
       "    <tr>\n",
       "      <th>4</th>\n",
       "      <td>2928176</td>\n",
       "      <td>украина</td>\n",
       "      <td>202031</td>\n",
       "      <td>2022-05-15</td>\n",
       "      <td>1</td>\n",
       "    </tr>\n",
       "    <tr>\n",
       "      <th>...</th>\n",
       "      <td>...</td>\n",
       "      <td>...</td>\n",
       "      <td>...</td>\n",
       "      <td>...</td>\n",
       "      <td>...</td>\n",
       "    </tr>\n",
       "    <tr>\n",
       "      <th>18877</th>\n",
       "      <td>1181</td>\n",
       "      <td>украина</td>\n",
       "      <td>150195</td>\n",
       "      <td>2018-04-05</td>\n",
       "      <td>1</td>\n",
       "    </tr>\n",
       "    <tr>\n",
       "      <th>18878</th>\n",
       "      <td>252</td>\n",
       "      <td>украина</td>\n",
       "      <td>150285</td>\n",
       "      <td>2018-04-04</td>\n",
       "      <td>1</td>\n",
       "    </tr>\n",
       "    <tr>\n",
       "      <th>18879</th>\n",
       "      <td>548</td>\n",
       "      <td>украина</td>\n",
       "      <td>150257</td>\n",
       "      <td>2018-04-05</td>\n",
       "      <td>1</td>\n",
       "    </tr>\n",
       "    <tr>\n",
       "      <th>18880</th>\n",
       "      <td>998</td>\n",
       "      <td>украина</td>\n",
       "      <td>150209</td>\n",
       "      <td>2018-04-05</td>\n",
       "      <td>1</td>\n",
       "    </tr>\n",
       "    <tr>\n",
       "      <th>18881</th>\n",
       "      <td>1415</td>\n",
       "      <td>украина</td>\n",
       "      <td>150175</td>\n",
       "      <td>2018-04-05</td>\n",
       "      <td>1</td>\n",
       "    </tr>\n",
       "  </tbody>\n",
       "</table>\n",
       "<p>10858 rows × 5 columns</p>\n",
       "</div>"
      ],
      "text/plain": [
       "            id     word  post_id       date  count\n",
       "0         4987  украина     2884 2022-02-13      1\n",
       "1      1598117  украина    95307 2020-03-27      1\n",
       "2      3477707  украина   300968 2021-02-16      1\n",
       "3      2465486  украина   165527 2021-09-22      1\n",
       "4      2928176  украина   202031 2022-05-15      1\n",
       "...        ...      ...      ...        ...    ...\n",
       "18877     1181  украина   150195 2018-04-05      1\n",
       "18878      252  украина   150285 2018-04-04      1\n",
       "18879      548  украина   150257 2018-04-05      1\n",
       "18880      998  украина   150209 2018-04-05      1\n",
       "18881     1415  украина   150175 2018-04-05      1\n",
       "\n",
       "[10858 rows x 5 columns]"
      ]
     },
     "execution_count": 8,
     "metadata": {},
     "output_type": "execute_result"
    }
   ],
   "source": [
    "grouped.head(10)"
   ]
  },
  {
   "cell_type": "code",
   "execution_count": 9,
   "id": "2ff411cd",
   "metadata": {
    "pycharm": {
     "name": "#%%\n"
    }
   },
   "outputs": [
    {
     "data": {
      "text/html": [
       "<div>\n",
       "<style scoped>\n",
       "    .dataframe tbody tr th:only-of-type {\n",
       "        vertical-align: middle;\n",
       "    }\n",
       "\n",
       "    .dataframe tbody tr th {\n",
       "        vertical-align: top;\n",
       "    }\n",
       "\n",
       "    .dataframe thead th {\n",
       "        text-align: right;\n",
       "    }\n",
       "</style>\n",
       "<table border=\"1\" class=\"dataframe\">\n",
       "  <thead>\n",
       "    <tr style=\"text-align: right;\">\n",
       "      <th></th>\n",
       "      <th>id</th>\n",
       "      <th>post_id</th>\n",
       "      <th>count</th>\n",
       "    </tr>\n",
       "    <tr>\n",
       "      <th>date</th>\n",
       "      <th></th>\n",
       "      <th></th>\n",
       "      <th></th>\n",
       "    </tr>\n",
       "  </thead>\n",
       "  <tbody>\n",
       "    <tr>\n",
       "      <th>2017-01-02</th>\n",
       "      <td>4423736</td>\n",
       "      <td>400406</td>\n",
       "      <td>1</td>\n",
       "    </tr>\n",
       "    <tr>\n",
       "      <th>2017-01-03</th>\n",
       "      <td>9800310</td>\n",
       "      <td>800701</td>\n",
       "      <td>2</td>\n",
       "    </tr>\n",
       "    <tr>\n",
       "      <th>2017-01-05</th>\n",
       "      <td>7889177</td>\n",
       "      <td>800255</td>\n",
       "      <td>2</td>\n",
       "    </tr>\n",
       "    <tr>\n",
       "      <th>2017-01-10</th>\n",
       "      <td>4314645</td>\n",
       "      <td>399442</td>\n",
       "      <td>1</td>\n",
       "    </tr>\n",
       "    <tr>\n",
       "      <th>2017-01-11</th>\n",
       "      <td>5124019</td>\n",
       "      <td>399351</td>\n",
       "      <td>1</td>\n",
       "    </tr>\n",
       "    <tr>\n",
       "      <th>2017-01-12</th>\n",
       "      <td>11922124</td>\n",
       "      <td>1197758</td>\n",
       "      <td>3</td>\n",
       "    </tr>\n",
       "    <tr>\n",
       "      <th>2017-01-15</th>\n",
       "      <td>4347963</td>\n",
       "      <td>398907</td>\n",
       "      <td>1</td>\n",
       "    </tr>\n",
       "    <tr>\n",
       "      <th>2017-01-16</th>\n",
       "      <td>7101872</td>\n",
       "      <td>797449</td>\n",
       "      <td>2</td>\n",
       "    </tr>\n",
       "    <tr>\n",
       "      <th>2017-01-17</th>\n",
       "      <td>3868723</td>\n",
       "      <td>398578</td>\n",
       "      <td>1</td>\n",
       "    </tr>\n",
       "    <tr>\n",
       "      <th>2017-01-18</th>\n",
       "      <td>3400767</td>\n",
       "      <td>398538</td>\n",
       "      <td>1</td>\n",
       "    </tr>\n",
       "  </tbody>\n",
       "</table>\n",
       "</div>"
      ],
      "text/plain": [
       "                  id  post_id  count\n",
       "date                                \n",
       "2017-01-02   4423736   400406      1\n",
       "2017-01-03   9800310   800701      2\n",
       "2017-01-05   7889177   800255      2\n",
       "2017-01-10   4314645   399442      1\n",
       "2017-01-11   5124019   399351      1\n",
       "2017-01-12  11922124  1197758      3\n",
       "2017-01-15   4347963   398907      1\n",
       "2017-01-16   7101872   797449      2\n",
       "2017-01-17   3868723   398578      1\n",
       "2017-01-18   3400767   398538      1"
      ]
     },
     "execution_count": 9,
     "metadata": {},
     "output_type": "execute_result"
    }
   ],
   "source": [
    "grouped.sum().head(10)"
   ]
  },
  {
   "cell_type": "code",
   "execution_count": 10,
   "id": "75d35f34",
   "metadata": {
    "pycharm": {
     "name": "#%%\n"
    }
   },
   "outputs": [
    {
     "data": {
      "text/plain": [
       "<AxesSubplot:xlabel='date'>"
      ]
     },
     "execution_count": 10,
     "metadata": {},
     "output_type": "execute_result"
    },
    {
     "data": {
      "image/png": "[encoded data removed]",
      "text/plain": [
       "<Figure size 432x288 with 1 Axes>"
      ]
     },
     "metadata": {
      "needs_background": "light"
     },
     "output_type": "display_data"
    }
   ],
   "source": [
    "grouped.sum().plot(grid=True)"
   ]
  },
  {
   "cell_type": "code",
   "execution_count": 11,
   "id": "a1444544",
   "metadata": {
    "pycharm": {
     "name": "#%%\n"
    }
   },
   "outputs": [
    {
     "ename": "NameError",
     "evalue": "name 'matplotlib' is not defined",
     "output_type": "error",
     "traceback": [
      "\u001B[1;31m---------------------------------------------------------------------------\u001B[0m",
      "\u001B[1;31mNameError\u001B[0m                                 Traceback (most recent call last)",
      "Input \u001B[1;32mIn [11]\u001B[0m, in \u001B[0;36m<cell line: 1>\u001B[1;34m()\u001B[0m\n\u001B[1;32m----> 1\u001B[0m \u001B[43mmatplotlib\u001B[49m\u001B[38;5;241m.\u001B[39mrcParams[\u001B[38;5;124m'\u001B[39m\u001B[38;5;124mfigurefigsize\u001B[39m\u001B[38;5;124m'\u001B[39m] \u001B[38;5;241m=\u001B[39m [\u001B[38;5;241m20.0\u001B[39m, \u001B[38;5;241m12.0\u001B[39m]\n",
      "\u001B[1;31mNameError\u001B[0m: name 'matplotlib' is not defined"
     ]
    }
   ],
   "source": [
    "matplotlib.rcParams['figurefigsize'] = [20.0, 12.0]"
   ]
  },
  {
   "cell_type": "code",
   "execution_count": 12,
   "id": "52ee0985",
   "metadata": {
    "pycharm": {
     "name": "#%%\n"
    }
   },
   "outputs": [
    {
     "ename": "KeyError",
     "evalue": "'figurefigsize is not a valid rc parameter (see rcParams.keys() for a list of valid parameters)'",
     "output_type": "error",
     "traceback": [
      "\u001B[1;31m---------------------------------------------------------------------------\u001B[0m",
      "\u001B[1;31mKeyError\u001B[0m                                  Traceback (most recent call last)",
      "File \u001B[1;32m~\\venv\\lib\\site-packages\\matplotlib\\__init__.py:644\u001B[0m, in \u001B[0;36mRcParams.__setitem__\u001B[1;34m(self, key, val)\u001B[0m\n\u001B[0;32m    643\u001B[0m \u001B[38;5;28;01mtry\u001B[39;00m:\n\u001B[1;32m--> 644\u001B[0m     cval \u001B[38;5;241m=\u001B[39m \u001B[38;5;28;43mself\u001B[39;49m\u001B[38;5;241;43m.\u001B[39;49m\u001B[43mvalidate\u001B[49m\u001B[43m[\u001B[49m\u001B[43mkey\u001B[49m\u001B[43m]\u001B[49m(val)\n\u001B[0;32m    645\u001B[0m \u001B[38;5;28;01mexcept\u001B[39;00m \u001B[38;5;167;01mValueError\u001B[39;00m \u001B[38;5;28;01mas\u001B[39;00m ve:\n",
      "\u001B[1;31mKeyError\u001B[0m: 'figurefigsize'",
      "\nThe above exception was the direct cause of the following exception:\n",
      "\u001B[1;31mKeyError\u001B[0m                                  Traceback (most recent call last)",
      "Input \u001B[1;32mIn [12]\u001B[0m, in \u001B[0;36m<cell line: 2>\u001B[1;34m()\u001B[0m\n\u001B[0;32m      1\u001B[0m \u001B[38;5;28;01mimport\u001B[39;00m \u001B[38;5;21;01mmatplotlib\u001B[39;00m\n\u001B[1;32m----> 2\u001B[0m matplotlib\u001B[38;5;241m.\u001B[39mrcParams[\u001B[38;5;124m'\u001B[39m\u001B[38;5;124mfigurefigsize\u001B[39m\u001B[38;5;124m'\u001B[39m] \u001B[38;5;241m=\u001B[39m [\u001B[38;5;241m20.0\u001B[39m, \u001B[38;5;241m12.0\u001B[39m]\n",
      "File \u001B[1;32m~\\venv\\lib\\site-packages\\matplotlib\\__init__.py:649\u001B[0m, in \u001B[0;36mRcParams.__setitem__\u001B[1;34m(self, key, val)\u001B[0m\n\u001B[0;32m    647\u001B[0m     \u001B[38;5;28mdict\u001B[39m\u001B[38;5;241m.\u001B[39m\u001B[38;5;21m__setitem__\u001B[39m(\u001B[38;5;28mself\u001B[39m, key, cval)\n\u001B[0;32m    648\u001B[0m \u001B[38;5;28;01mexcept\u001B[39;00m \u001B[38;5;167;01mKeyError\u001B[39;00m \u001B[38;5;28;01mas\u001B[39;00m err:\n\u001B[1;32m--> 649\u001B[0m     \u001B[38;5;28;01mraise\u001B[39;00m \u001B[38;5;167;01mKeyError\u001B[39;00m(\n\u001B[0;32m    650\u001B[0m         \u001B[38;5;124mf\u001B[39m\u001B[38;5;124m\"\u001B[39m\u001B[38;5;132;01m{\u001B[39;00mkey\u001B[38;5;132;01m}\u001B[39;00m\u001B[38;5;124m is not a valid rc parameter (see rcParams.keys() for \u001B[39m\u001B[38;5;124m\"\u001B[39m\n\u001B[0;32m    651\u001B[0m         \u001B[38;5;124mf\u001B[39m\u001B[38;5;124m\"\u001B[39m\u001B[38;5;124ma list of valid parameters)\u001B[39m\u001B[38;5;124m\"\u001B[39m) \u001B[38;5;28;01mfrom\u001B[39;00m \u001B[38;5;21;01merr\u001B[39;00m\n",
      "\u001B[1;31mKeyError\u001B[0m: 'figurefigsize is not a valid rc parameter (see rcParams.keys() for a list of valid parameters)'"
     ]
    }
   ],
   "source": [
    "import matplotlib\n",
    "matplotlib.rcParams['figurefigsize'] = [20.0, 12.0]"
   ]
  },
  {
   "cell_type": "code",
   "execution_count": 13,
   "id": "c170c34d",
   "metadata": {
    "pycharm": {
     "name": "#%%\n"
    }
   },
   "outputs": [],
   "source": [
    "matplotlib.rcParams['figure.figsize'] = [20.0, 12.0]"
   ]
  },
  {
   "cell_type": "code",
   "execution_count": 14,
   "id": "a38b6798",
   "metadata": {
    "pycharm": {
     "name": "#%%\n"
    }
   },
   "outputs": [
    {
     "data": {
      "text/plain": [
       "<AxesSubplot:xlabel='date'>"
      ]
     },
     "execution_count": 14,
     "metadata": {},
     "output_type": "execute_result"
    },
    {
     "data": {
      "image/png": "[encoded data removed]",
      "text/plain": [
       "<Figure size 1440x864 with 1 Axes>"
      ]
     },
     "metadata": {
      "needs_background": "light"
     },
     "output_type": "display_data"
    }
   ],
   "source": [
    "grouped.sum().plot(grid=True)"
   ]
  },
  {
   "cell_type": "code",
   "execution_count": null,
   "id": "a734e31f",
   "metadata": {
    "pycharm": {
     "name": "#%%\n"
    }
   },
   "outputs": [],
   "source": []
  }
 ],
 "metadata": {
  "kernelspec": {
   "display_name": "Python 3 (ipykernel)",
   "language": "python",
   "name": "python3"
  },
  "language_info": {
   "codemirror_mode": {
    "name": "ipython",
    "version": 3
   },
   "file_extension": ".py",
   "mimetype": "text/x-python",
   "name": "python",
   "nbconvert_exporter": "python",
   "pygments_lexer": "ipython3",
   "version": "3.10.1"
  }
 },
 "nbformat": 4,
 "nbformat_minor": 5
}